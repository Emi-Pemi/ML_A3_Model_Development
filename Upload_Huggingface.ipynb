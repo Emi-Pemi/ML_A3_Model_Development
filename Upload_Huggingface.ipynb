{
 "cells": [
  {
   "cell_type": "code",
   "execution_count": 13,
   "id": "71c4d929",
   "metadata": {},
   "outputs": [
    {
     "name": "stderr",
     "output_type": "stream",
     "text": [
      "model.joblib: 100%|██████████| 775/775 [00:00<00:00, 1.79kB/s]\n"
     ]
    },
    {
     "data": {
      "text/plain": [
       "CommitInfo(commit_url='https://huggingface.co/Emi-Pemi/A3_Model_Development/commit/a693a0c43169fc07fa80582d99620d62d4efc3e3', commit_message='Upload model.joblib with huggingface_hub', commit_description='', oid='a693a0c43169fc07fa80582d99620d62d4efc3e3', pr_url=None, repo_url=RepoUrl('https://huggingface.co/Emi-Pemi/A3_Model_Development', endpoint='https://huggingface.co', repo_type='model', repo_id='Emi-Pemi/A3_Model_Development'), pr_revision=None, pr_num=None)"
      ]
     },
     "execution_count": 13,
     "metadata": {},
     "output_type": "execute_result"
    }
   ],
   "source": [
    "from huggingface_hub import HfApi\n",
    "\n",
    "api = HfApi()\n",
    "api.upload_file(\n",
    "    path_or_fileobj=\"model.joblib\",\n",
    "    path_in_repo=\"model.joblib\",\n",
    "    repo_id=\"Emi-Pemi/A3_Model_Development\",\n",
    "    repo_type=\"model\"\n",
    ")"
   ]
  },
  {
   "cell_type": "code",
   "execution_count": 3,
   "id": "e2a34a48",
   "metadata": {},
   "outputs": [
    {
     "name": "stderr",
     "output_type": "stream",
     "text": [
      "c:\\Users\\Toshiba\\AppData\\Local\\Programs\\Python\\Python313\\Lib\\site-packages\\tqdm\\auto.py:21: TqdmWarning: IProgress not found. Please update jupyter and ipywidgets. See https://ipywidgets.readthedocs.io/en/stable/user_install.html\n",
      "  from .autonotebook import tqdm as notebook_tqdm\n",
      "model.joblib: 100%|██████████| 488/488 [00:00<00:00, 513B/s]  \n"
     ]
    },
    {
     "data": {
      "text/plain": [
       "CommitInfo(commit_url='https://huggingface.co/Emi-Pemi/A3_Model_Development/commit/2415d87bb0f67071a92082c4c2aa83c0044bce16', commit_message='Upload model.joblib with huggingface_hub', commit_description='', oid='2415d87bb0f67071a92082c4c2aa83c0044bce16', pr_url=None, repo_url=RepoUrl('https://huggingface.co/Emi-Pemi/A3_Model_Development', endpoint='https://huggingface.co', repo_type='model', repo_id='Emi-Pemi/A3_Model_Development'), pr_revision=None, pr_num=None)"
      ]
     },
     "execution_count": 3,
     "metadata": {},
     "output_type": "execute_result"
    }
   ],
   "source": [
    "from huggingface_hub import HfApi\n",
    "\n",
    "api = HfApi()\n",
    "api.upload_file(\n",
    "    path_or_fileobj=\"model.joblib\",\n",
    "    path_in_repo=\"model.joblib\",\n",
    "    repo_id=\"Emi-Pemi/A3_Model_Development\",\n",
    "    repo_type=\"model\"\n",
    ")"
   ]
  }
 ],
 "metadata": {
  "kernelspec": {
   "display_name": "Python 3",
   "language": "python",
   "name": "python3"
  },
  "language_info": {
   "codemirror_mode": {
    "name": "ipython",
    "version": 3
   },
   "file_extension": ".py",
   "mimetype": "text/x-python",
   "name": "python",
   "nbconvert_exporter": "python",
   "pygments_lexer": "ipython3",
   "version": "3.13.2"
  }
 },
 "nbformat": 4,
 "nbformat_minor": 5
}
